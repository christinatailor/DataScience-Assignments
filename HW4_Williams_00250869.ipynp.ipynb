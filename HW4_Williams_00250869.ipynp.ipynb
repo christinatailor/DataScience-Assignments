{
 "cells": [
  {
   "cell_type": "code",
   "execution_count": 1,
   "metadata": {},
   "outputs": [
    {
     "data": {
      "text/html": [
       "<div>\n",
       "<style scoped>\n",
       "    .dataframe tbody tr th:only-of-type {\n",
       "        vertical-align: middle;\n",
       "    }\n",
       "\n",
       "    .dataframe tbody tr th {\n",
       "        vertical-align: top;\n",
       "    }\n",
       "\n",
       "    .dataframe thead th {\n",
       "        text-align: right;\n",
       "    }\n",
       "</style>\n",
       "<table border=\"1\" class=\"dataframe\">\n",
       "  <thead>\n",
       "    <tr style=\"text-align: right;\">\n",
       "      <th></th>\n",
       "      <th>Student1</th>\n",
       "      <th>Student2</th>\n",
       "    </tr>\n",
       "  </thead>\n",
       "  <tbody>\n",
       "    <tr>\n",
       "      <th>0</th>\n",
       "      <td>95</td>\n",
       "      <td>90</td>\n",
       "    </tr>\n",
       "    <tr>\n",
       "      <th>1</th>\n",
       "      <td>83</td>\n",
       "      <td>60</td>\n",
       "    </tr>\n",
       "    <tr>\n",
       "      <th>2</th>\n",
       "      <td>96</td>\n",
       "      <td>75</td>\n",
       "    </tr>\n",
       "    <tr>\n",
       "      <th>3</th>\n",
       "      <td>88</td>\n",
       "      <td>82</td>\n",
       "    </tr>\n",
       "    <tr>\n",
       "      <th>4</th>\n",
       "      <td>78</td>\n",
       "      <td>80</td>\n",
       "    </tr>\n",
       "    <tr>\n",
       "      <th>5</th>\n",
       "      <td>87</td>\n",
       "      <td>65</td>\n",
       "    </tr>\n",
       "    <tr>\n",
       "      <th>6</th>\n",
       "      <td>90</td>\n",
       "      <td>88</td>\n",
       "    </tr>\n",
       "    <tr>\n",
       "      <th>7</th>\n",
       "      <td>83</td>\n",
       "      <td>91</td>\n",
       "    </tr>\n",
       "    <tr>\n",
       "      <th>8</th>\n",
       "      <td>91</td>\n",
       "      <td>67</td>\n",
       "    </tr>\n",
       "    <tr>\n",
       "      <th>9</th>\n",
       "      <td>94</td>\n",
       "      <td>90</td>\n",
       "    </tr>\n",
       "  </tbody>\n",
       "</table>\n",
       "</div>"
      ],
      "text/plain": [
       "   Student1  Student2\n",
       "0        95        90\n",
       "1        83        60\n",
       "2        96        75\n",
       "3        88        82\n",
       "4        78        80\n",
       "5        87        65\n",
       "6        90        88\n",
       "7        83        91\n",
       "8        91        67\n",
       "9        94        90"
      ]
     },
     "execution_count": 1,
     "metadata": {},
     "output_type": "execute_result"
    }
   ],
   "source": [
    "%matplotlib inline\n",
    "import numpy as np\n",
    "import pandas as pd\n",
    "import matplotlib.pyplot as plt\n",
    "\n",
    "from scipy.stats import pearsonr as ps\n",
    "\n",
    "#Question 1\n",
    "\n",
    "students = {\n",
    "    \"Student1\": [95, 83, 96, 88, 78, 87, 90, 83, 91, 94],\n",
    "    \"Student2\": [90, 60, 75, 82, 80, 65, 88, 91, 67, 90]\n",
    "}\n",
    "grades = pd.DataFrame(students)\n",
    "grades"
   ]
  },
  {
   "cell_type": "code",
   "execution_count": 2,
   "metadata": {},
   "outputs": [
    {
     "name": "stdout",
     "output_type": "stream",
     "text": [
      "student 1 has a standard deviation that shows that they are more consisent. Here is their Standard deviation  5.873670062235365 \n",
      " Here is the standard deviation for student two  11.516172203567564\n"
     ]
    }
   ],
   "source": [
    "print(\"student 1 has a standard deviation that shows that they are more consisent. Based on the data, we can see that the standard deivation for student 2 is less than that of student 1. Here is their Standard deviation \", grades.Student1.std(), \"\\n Here is the standard deviation for student two \", grades.Student2.std())\n",
    "\n",
    "\n"
   ]
  },
  {
   "cell_type": "code",
   "execution_count": 21,
   "metadata": {},
   "outputs": [
    {
     "name": "stdout",
     "output_type": "stream",
     "text": [
      "Side by side bar graph of student one and student 2:\n"
     ]
    },
    {
     "data": {
      "text/plain": [
       "<AxesSubplot:>"
      ]
     },
     "execution_count": 21,
     "metadata": {},
     "output_type": "execute_result"
    },
    {
     "data": {
      "image/png": "[encoded data removed]",
      "text/plain": [
       "<Figure size 432x288 with 1 Axes>"
      ]
     },
     "metadata": {
      "needs_background": "light"
     },
     "output_type": "display_data"
    }
   ],
   "source": [
    "#b\n",
    "\n",
    "\n",
    "print(\"Side by side bar graph of student one and student 2:\")\n",
    "grades.plot.bar()"
   ]
  },
  {
   "cell_type": "code",
   "execution_count": 6,
   "metadata": {},
   "outputs": [
    {
     "name": "stdout",
     "output_type": "stream",
     "text": [
      "Mean:  170.0823750889672\n",
      "Standard Deviation:  4.984924413553836\n",
      "\n",
      " (array([ 2.,  4., 13., 38., 59., 50., 49., 22.,  8.,  5.]), array([154.37398911, 157.36754049, 160.36109187, 163.35464326,\n",
      "       166.34819464, 169.34174602, 172.3352974 , 175.32884878,\n",
      "       178.32240016, 181.31595155, 184.30950293]), <BarContainer object of 10 artists>)\n",
      "\n",
      "\n"
     ]
    },
    {
     "data": {
      "image/png": "[encoded data removed]",
      "text/plain": [
       "<Figure size 432x288 with 1 Axes>"
      ]
     },
     "metadata": {
      "needs_background": "light"
     },
     "output_type": "display_data"
    }
   ],
   "source": [
    "#Question 2\n",
    "import numpy as np\n",
    "import pandas as pd\n",
    "import matplotlib.pyplot as plt\n",
    "\n",
    "#a\n",
    "my_std = 5\n",
    "my_mean = 170\n",
    "x = my_std * np.random.randn(250) + my_mean\n",
    "print(\"Mean: \", x.mean())\n",
    "print(\"Standard Deviation: \", x.std())\n",
    "#b\n",
    "theplot = plt.hist(x)\n",
    "print(\"\\n\", theplot)"
   ]
  },
  {
   "cell_type": "code",
   "execution_count": 19,
   "metadata": {},
   "outputs": [
    {
     "name": "stdout",
     "output_type": "stream",
     "text": [
      "generated histogram \n",
      "  <built-in method index of tuple object at 0x7fe60c023c40> <built-in method count of tuple object at 0x7fe60c023c40>\n",
      " What I interpreted from the generated histogram is that it skews lightly to the right because of this we can see that the random number generator was more likely to choose numbers greater than our desiered mean of 170. The mean is just a point above 170. However, I do think it is good chance you will hit the mean\n"
     ]
    },
    {
     "data": {
      "text/plain": [
       "(31.992578124999977, 7.8841603203754405, 67.1)"
      ]
     },
     "execution_count": 19,
     "metadata": {},
     "output_type": "execute_result"
    },
    {
     "data": {
      "image/png": "[encoded data removed]",
      "text/plain": [
       "<Figure size 432x288 with 1 Axes>"
      ]
     },
     "metadata": {
      "needs_background": "light"
     },
     "output_type": "display_data"
    }
   ],
   "source": [
    "#c #find stardard divation left skew median is \n",
    "print(\"generated histogram \\n \", theplot.index, theplot.count)\n",
    "print(\" What I interpreted from the generated histogram is that it skews lightly to the right because of this we can see that the random number generator was more likely to choose numbers greater than our desiered mean of 170. The mean is just a point above 170. However, I do think it is good chance you will hit the mean\")\n",
    "#d \n",
    "pima = pd.read_csv(\"pima-indians-diabetes.csv\")\n",
    "plt.hist(pima.BMI)\n",
    "#e\n",
    "pima.BMI.mean(), pima.BMI.std(), pima.BMI.max() - pima.BMI.min()"
   ]
  },
  {
   "cell_type": "code",
   "execution_count": 17,
   "metadata": {},
   "outputs": [
    {
     "data": {
      "text/html": [
       "<div>\n",
       "<style scoped>\n",
       "    .dataframe tbody tr th:only-of-type {\n",
       "        vertical-align: middle;\n",
       "    }\n",
       "\n",
       "    .dataframe tbody tr th {\n",
       "        vertical-align: top;\n",
       "    }\n",
       "\n",
       "    .dataframe thead th {\n",
       "        text-align: right;\n",
       "    }\n",
       "</style>\n",
       "<table border=\"1\" class=\"dataframe\">\n",
       "  <thead>\n",
       "    <tr style=\"text-align: right;\">\n",
       "      <th></th>\n",
       "      <th>Store1</th>\n",
       "      <th>Store2</th>\n",
       "    </tr>\n",
       "  </thead>\n",
       "  <tbody>\n",
       "    <tr>\n",
       "      <th>0</th>\n",
       "      <td>350</td>\n",
       "      <td>20</td>\n",
       "    </tr>\n",
       "    <tr>\n",
       "      <th>1</th>\n",
       "      <td>460</td>\n",
       "      <td>180</td>\n",
       "    </tr>\n",
       "    <tr>\n",
       "      <th>2</th>\n",
       "      <td>20</td>\n",
       "      <td>260</td>\n",
       "    </tr>\n",
       "    <tr>\n",
       "      <th>3</th>\n",
       "      <td>160</td>\n",
       "      <td>380</td>\n",
       "    </tr>\n",
       "    <tr>\n",
       "      <th>4</th>\n",
       "      <td>580</td>\n",
       "      <td>80</td>\n",
       "    </tr>\n",
       "    <tr>\n",
       "      <th>5</th>\n",
       "      <td>250</td>\n",
       "      <td>500</td>\n",
       "    </tr>\n",
       "    <tr>\n",
       "      <th>6</th>\n",
       "      <td>210</td>\n",
       "      <td>630</td>\n",
       "    </tr>\n",
       "    <tr>\n",
       "      <th>7</th>\n",
       "      <td>120</td>\n",
       "      <td>420</td>\n",
       "    </tr>\n",
       "    <tr>\n",
       "      <th>8</th>\n",
       "      <td>200</td>\n",
       "      <td>210</td>\n",
       "    </tr>\n",
       "    <tr>\n",
       "      <th>9</th>\n",
       "      <td>510</td>\n",
       "      <td>70</td>\n",
       "    </tr>\n",
       "    <tr>\n",
       "      <th>10</th>\n",
       "      <td>290</td>\n",
       "      <td>440</td>\n",
       "    </tr>\n",
       "    <tr>\n",
       "      <th>11</th>\n",
       "      <td>380</td>\n",
       "      <td>140</td>\n",
       "    </tr>\n",
       "  </tbody>\n",
       "</table>\n",
       "</div>"
      ],
      "text/plain": [
       "    Store1  Store2\n",
       "0      350      20\n",
       "1      460     180\n",
       "2       20     260\n",
       "3      160     380\n",
       "4      580      80\n",
       "5      250     500\n",
       "6      210     630\n",
       "7      120     420\n",
       "8      200     210\n",
       "9      510      70\n",
       "10     290     440\n",
       "11     380     140"
      ]
     },
     "execution_count": 17,
     "metadata": {},
     "output_type": "execute_result"
    }
   ],
   "source": [
    "#Question 3\n",
    "\n",
    "#a\n",
    "#box 1\n",
    "stores = {\n",
    "    \"Store1\": [350, 460, 20, 160, 580, 250, 210, 120, 200, 510, 290, 380],\n",
    "    \"Store2\": [20, 180, 260, 380, 80, 500, 630, 420, 210, 70, 440, 140]\n",
    "}\n",
    "\n",
    "stores = pd.DataFrame(stores)\n",
    "stores"
   ]
  },
  {
   "cell_type": "code",
   "execution_count": 13,
   "metadata": {},
   "outputs": [
    {
     "name": "stdout",
     "output_type": "stream",
     "text": [
      "(array([1., 1.]), array([190.,  20.]))\n",
      "(array([1., 1.]), array([400., 580.]))\n",
      "\n",
      "Based on the data of the plots for box1 the min is between 0-100 and the max is between 500-600 and the median is between 200-300 and the Quartile 1 is between 100-200 and Quartile 3 is between 400-500 \n",
      " \n",
      "<bound method Line2D.get_data of <matplotlib.lines.Line2D object at 0x7fe60c6859d0>>\n",
      "<bound method Line2D.get_data of <matplotlib.lines.Line2D object at 0x7fe60c685d30>>\n",
      "\n",
      "Based on the plots for box2 the min is between 0-100 and the max is between 600-700 and the median is between 200-300 and Quartile 1 is between 100-200 and Quartile 3 is between 400-500\n",
      "\n"
     ]
    },
    {
     "data": {
      "image/png": "[encoded data removed]",
      "text/plain": [
       "<Figure size 432x288 with 1 Axes>"
      ]
     },
     "metadata": {
      "needs_background": "light"
     },
     "output_type": "display_data"
    }
   ],
   "source": [
    "box1 = plt.boxplot(stores.Store1)\n",
    "box1"
   ]
  },
  {
   "cell_type": "code",
   "execution_count": 18,
   "metadata": {},
   "outputs": [
    {
     "data": {
      "text/plain": [
       "{'whiskers': [<matplotlib.lines.Line2D at 0x7fe60c85dee0>,\n",
       "  <matplotlib.lines.Line2D at 0x7fe60c86b280>],\n",
       " 'caps': [<matplotlib.lines.Line2D at 0x7fe60c86b5e0>,\n",
       "  <matplotlib.lines.Line2D at 0x7fe60c86b940>],\n",
       " 'boxes': [<matplotlib.lines.Line2D at 0x7fe60c85db80>],\n",
       " 'medians': [<matplotlib.lines.Line2D at 0x7fe60c86bca0>],\n",
       " 'fliers': [<matplotlib.lines.Line2D at 0x7fe60c878040>],\n",
       " 'means': []}"
      ]
     },
     "execution_count": 18,
     "metadata": {},
     "output_type": "execute_result"
    },
    {
     "data": {
      "image/png": "[encoded data removed]",
      "text/plain": [
       "<Figure size 432x288 with 1 Axes>"
      ]
     },
     "metadata": {
      "needs_background": "light"
     },
     "output_type": "display_data"
    }
   ],
   "source": [
    "box2 = plt.boxplot(stores.Store2)\n",
    "box2"
   ]
  },
  {
   "cell_type": "code",
   "execution_count": 22,
   "metadata": {},
   "outputs": [
    {
     "name": "stdout",
     "output_type": "stream",
     "text": [
      "(array([1., 1.]), array([190.,  20.]))\n",
      "(array([1., 1.]), array([400., 580.]))\n",
      "The data of the plots for box1 the minimum is between 0-100. The max is between 500-600 The median is between 200-300.\n",
      "<bound method Line2D.get_data of <matplotlib.lines.Line2D object at 0x7fe60c85dee0>>\n",
      "<bound method Line2D.get_data of <matplotlib.lines.Line2D object at 0x7fe60c86b280>>\n",
      "\n",
      " The data of the plots for box2 the minimum is between 0-100. The max is between 600-700 The median is between 200-300.\n"
     ]
    }
   ],
   "source": [
    "#b\n",
    "for i in box1.get(\"whiskers\"):\n",
    "    print(i.get_data())\n",
    "print(\"The data of the plots for box1 the minimum is between 0-100. The max is between 500-600 The median is between 200-300.\")  \n",
    "\n",
    "for i in box2.get(\"whiskers\"):\n",
    "    print(i.get_data)\n",
    "print(\"\\n The data of the plots for box2 the minimum is between 0-100. The max is between 600-700 The median is between 200-300.\")"
   ]
  },
  {
   "cell_type": "code",
   "execution_count": null,
   "metadata": {},
   "outputs": [],
   "source": [
    "#Question 4\n",
    "\n",
    "\n",
    "x = [35, 50, 75, 95, 120, 130, 145, 155, 160, 175, 185, 190]\n",
    "y = [5.88, 5.99, 6.74, 6.1, 7.47, 6.93, 6.42, 7.97, 7.92, 7.62, 6.89, 7.9]\n",
    "\n",
    "#Generating Scatter plot\n",
    "plt.figure(figsize = (6,4))\n",
    "plt.scatter(x,y)\n",
    "plt.xlabel(\"Depth (ft)\")\n",
    "plt.ylabel(\"Time (mins)\")\n",
    "plt.title(\"Scatter Plot\")\n",
    "plt.show()\n",
    "\n",
    "#Determining linear co-efficient \n",
    "r, c = ps(x, y) \n",
    "print(r)\n",
    "print(c)\n",
    "print(\"Based on that data, we can see that there is a positive correlation. This is because the result for r is positive and the plot shows a linear acceleration\") \n",
    "\n"
   ]
  },
  {
   "cell_type": "code",
   "execution_count": null,
   "metadata": {},
   "outputs": [],
   "source": []
  },
  {
   "cell_type": "code",
   "execution_count": null,
   "metadata": {},
   "outputs": [],
   "source": []
  },
  {
   "cell_type": "code",
   "execution_count": null,
   "metadata": {},
   "outputs": [],
   "source": []
  }
 ],
 "metadata": {
  "kernelspec": {
   "display_name": "Python 3",
   "language": "python",
   "name": "python3"
  },
  "language_info": {
   "codemirror_mode": {
    "name": "ipython",
    "version": 3
   },
   "file_extension": ".py",
   "mimetype": "text/x-python",
   "name": "python",
   "nbconvert_exporter": "python",
   "pygments_lexer": "ipython3",
   "version": "3.8.5"
  }
 },
 "nbformat": 4,
 "nbformat_minor": 4
}
