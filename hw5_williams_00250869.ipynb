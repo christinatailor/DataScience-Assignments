{
 "cells": [
  {
   "cell_type": "code",
   "execution_count": 19,
   "metadata": {},
   "outputs": [],
   "source": [
    "\n",
    "import numpy as np\n",
    "import pandas as pd\n",
    "\n",
    "import matplotlib.pyplot as plt\n",
    "import seaborn as sea\n",
    "\n",
    "from sklearn.model_selection import train_test_split\n",
    "from sklearn.linear_model import LinearRegression\n",
    "from sklearn import metrics\n",
    "\n"
   ]
  },
  {
   "cell_type": "code",
   "execution_count": 4,
   "metadata": {},
   "outputs": [
    {
     "data": {
      "text/html": [
       "<div>\n",
       "<style scoped>\n",
       "    .dataframe tbody tr th:only-of-type {\n",
       "        vertical-align: middle;\n",
       "    }\n",
       "\n",
       "    .dataframe tbody tr th {\n",
       "        vertical-align: top;\n",
       "    }\n",
       "\n",
       "    .dataframe thead th {\n",
       "        text-align: right;\n",
       "    }\n",
       "</style>\n",
       "<table border=\"1\" class=\"dataframe\">\n",
       "  <thead>\n",
       "    <tr style=\"text-align: right;\">\n",
       "      <th></th>\n",
       "      <th>x</th>\n",
       "      <th>y</th>\n",
       "    </tr>\n",
       "  </thead>\n",
       "  <tbody>\n",
       "    <tr>\n",
       "      <th>count</th>\n",
       "      <td>5.000000</td>\n",
       "      <td>5.0000</td>\n",
       "    </tr>\n",
       "    <tr>\n",
       "      <th>mean</th>\n",
       "      <td>78.000000</td>\n",
       "      <td>77.0000</td>\n",
       "    </tr>\n",
       "    <tr>\n",
       "      <th>std</th>\n",
       "      <td>13.509256</td>\n",
       "      <td>12.5499</td>\n",
       "    </tr>\n",
       "    <tr>\n",
       "      <th>min</th>\n",
       "      <td>60.000000</td>\n",
       "      <td>65.0000</td>\n",
       "    </tr>\n",
       "    <tr>\n",
       "      <th>25%</th>\n",
       "      <td>70.000000</td>\n",
       "      <td>70.0000</td>\n",
       "    </tr>\n",
       "    <tr>\n",
       "      <th>50%</th>\n",
       "      <td>80.000000</td>\n",
       "      <td>70.0000</td>\n",
       "    </tr>\n",
       "    <tr>\n",
       "      <th>75%</th>\n",
       "      <td>85.000000</td>\n",
       "      <td>85.0000</td>\n",
       "    </tr>\n",
       "    <tr>\n",
       "      <th>max</th>\n",
       "      <td>95.000000</td>\n",
       "      <td>95.0000</td>\n",
       "    </tr>\n",
       "  </tbody>\n",
       "</table>\n",
       "</div>"
      ],
      "text/plain": [
       "               x        y\n",
       "count   5.000000   5.0000\n",
       "mean   78.000000  77.0000\n",
       "std    13.509256  12.5499\n",
       "min    60.000000  65.0000\n",
       "25%    70.000000  70.0000\n",
       "50%    80.000000  70.0000\n",
       "75%    85.000000  85.0000\n",
       "max    95.000000  95.0000"
      ]
     },
     "execution_count": 4,
     "metadata": {},
     "output_type": "execute_result"
    }
   ],
   "source": [
    "#question 1\n",
    "\n",
    "#a\n",
    "\n",
    "students = {\n",
    "    'x': [95, 85, 80, 70, 60],\n",
    "    'y': [85, 95, 70, 65, 70]\n",
    "}\n",
    "\n",
    "s = pd.DataFrame(students)\n",
    "s.describe()"
   ]
  },
  {
   "cell_type": "code",
   "execution_count": 6,
   "metadata": {},
   "outputs": [
    {
     "name": "stdout",
     "output_type": "stream",
     "text": [
      "[[90.51724138]\n",
      " [83.79310345]\n",
      " [80.43103448]\n",
      " [73.70689655]\n",
      " [66.98275862]]\n"
     ]
    }
   ],
   "source": [
    "x = s.x.values.reshape(-1, 1)\n",
    "y = s.y.values.reshape(-1, 1)\n",
    "\n",
    "xTrain, xTest, yTrain, yTest = train_test_split(x, y, test_size=0.2, random_state=0)\n",
    "\n",
    "regression = LinearRegression()\n",
    "regression.fit(xTrain, yTrain)\n",
    "print(regression.predict(x))"
   ]
  },
  {
   "cell_type": "code",
   "execution_count": 9,
   "metadata": {},
   "outputs": [
    {
     "name": "stdout",
     "output_type": "stream",
     "text": [
      "if the grade print(for a student with an 80 on the test should come out to: [[80.43103448]]\n"
     ]
    }
   ],
   "source": [
    "print(f\"if the grade print(for a student with an 80 on the test should come out to: {regression.predict([[80]])}\")"
   ]
  },
  {
   "cell_type": "code",
   "execution_count": 12,
   "metadata": {},
   "outputs": [
    {
     "name": "stdout",
     "output_type": "stream",
     "text": [
      "<matplotlib.collections.PathCollection object at 0x7fe9f6dcdeb0> \n",
      "\n",
      "<matplotlib.collections.PathCollection object at 0x7fe9f6d5ea30>\n"
     ]
    },
    {
     "data": {
      "image/png": "[encoded data removed]",
      "text/plain": [
       "<Figure size 432x288 with 1 Axes>"
      ]
     },
     "metadata": {
      "needs_background": "light"
     },
     "output_type": "display_data"
    }
   ],
   "source": [
    "print(plt.scatter(regression.predict(x), y=regression.predict(y)), \"\\n\")\n",
    "print(plt.scatter(x=s.x, y=s.y))\n",
    "\n"
   ]
  },
  {
   "cell_type": "code",
   "execution_count": 11,
   "metadata": {},
   "outputs": [
    {
     "name": "stdout",
     "output_type": "stream",
     "text": [
      "Values are close to what was predicted, but are not a match\n"
     ]
    }
   ],
   "source": [
    "print('Values are close to what was predicted, but are not a match')"
   ]
  },
  {
   "cell_type": "code",
   "execution_count": 13,
   "metadata": {},
   "outputs": [
    {
     "name": "stdout",
     "output_type": "stream",
     "text": [
      "The our machine could have done better with more data to learn from.\n"
     ]
    }
   ],
   "source": [
    "#d\n",
    "print(\"The our machine could have done better with more data to learn from.\")"
   ]
  },
  {
   "cell_type": "code",
   "execution_count": 25,
   "metadata": {},
   "outputs": [
    {
     "data": {
      "text/html": [
       "<div>\n",
       "<style scoped>\n",
       "    .dataframe tbody tr th:only-of-type {\n",
       "        vertical-align: middle;\n",
       "    }\n",
       "\n",
       "    .dataframe tbody tr th {\n",
       "        vertical-align: top;\n",
       "    }\n",
       "\n",
       "    .dataframe thead th {\n",
       "        text-align: right;\n",
       "    }\n",
       "</style>\n",
       "<table border=\"1\" class=\"dataframe\">\n",
       "  <thead>\n",
       "    <tr style=\"text-align: right;\">\n",
       "      <th></th>\n",
       "      <th>Index</th>\n",
       "      <th>\"Living Space (sq ft)\"</th>\n",
       "      <th>\"Beds\"</th>\n",
       "      <th>\"Baths\"</th>\n",
       "      <th>\"Zip\"</th>\n",
       "      <th>\"Year\"</th>\n",
       "      <th>\"List Price ($)\"</th>\n",
       "    </tr>\n",
       "  </thead>\n",
       "  <tbody>\n",
       "    <tr>\n",
       "      <th>count</th>\n",
       "      <td>20.00000</td>\n",
       "      <td>20.000000</td>\n",
       "      <td>20.000000</td>\n",
       "      <td>20.00000</td>\n",
       "      <td>20.000000</td>\n",
       "      <td>20.000000</td>\n",
       "      <td>20.000000</td>\n",
       "    </tr>\n",
       "    <tr>\n",
       "      <th>mean</th>\n",
       "      <td>10.50000</td>\n",
       "      <td>2645.650000</td>\n",
       "      <td>3.850000</td>\n",
       "      <td>3.17500</td>\n",
       "      <td>32308.900000</td>\n",
       "      <td>1992.650000</td>\n",
       "      <td>383440.000000</td>\n",
       "    </tr>\n",
       "    <tr>\n",
       "      <th>std</th>\n",
       "      <td>5.91608</td>\n",
       "      <td>1111.423614</td>\n",
       "      <td>0.988087</td>\n",
       "      <td>1.18405</td>\n",
       "      <td>3.552612</td>\n",
       "      <td>18.530984</td>\n",
       "      <td>205756.671312</td>\n",
       "    </tr>\n",
       "    <tr>\n",
       "      <th>min</th>\n",
       "      <td>1.00000</td>\n",
       "      <td>1128.000000</td>\n",
       "      <td>2.000000</td>\n",
       "      <td>1.00000</td>\n",
       "      <td>32301.000000</td>\n",
       "      <td>1954.000000</td>\n",
       "      <td>89000.000000</td>\n",
       "    </tr>\n",
       "    <tr>\n",
       "      <th>25%</th>\n",
       "      <td>5.75000</td>\n",
       "      <td>1904.750000</td>\n",
       "      <td>3.000000</td>\n",
       "      <td>2.00000</td>\n",
       "      <td>32308.750000</td>\n",
       "      <td>1987.750000</td>\n",
       "      <td>233750.000000</td>\n",
       "    </tr>\n",
       "    <tr>\n",
       "      <th>50%</th>\n",
       "      <td>10.50000</td>\n",
       "      <td>2490.000000</td>\n",
       "      <td>4.000000</td>\n",
       "      <td>3.00000</td>\n",
       "      <td>32309.500000</td>\n",
       "      <td>1995.000000</td>\n",
       "      <td>340000.000000</td>\n",
       "    </tr>\n",
       "    <tr>\n",
       "      <th>75%</th>\n",
       "      <td>15.25000</td>\n",
       "      <td>3577.750000</td>\n",
       "      <td>4.250000</td>\n",
       "      <td>4.00000</td>\n",
       "      <td>32312.000000</td>\n",
       "      <td>2006.000000</td>\n",
       "      <td>554675.000000</td>\n",
       "    </tr>\n",
       "    <tr>\n",
       "      <th>max</th>\n",
       "      <td>20.00000</td>\n",
       "      <td>4892.000000</td>\n",
       "      <td>6.000000</td>\n",
       "      <td>6.00000</td>\n",
       "      <td>32312.000000</td>\n",
       "      <td>2016.000000</td>\n",
       "      <td>799900.000000</td>\n",
       "    </tr>\n",
       "  </tbody>\n",
       "</table>\n",
       "</div>"
      ],
      "text/plain": [
       "          Index   \"Living Space (sq ft)\"     \"Beds\"   \"Baths\"         \"Zip\"  \\\n",
       "count  20.00000                20.000000  20.000000  20.00000     20.000000   \n",
       "mean   10.50000              2645.650000   3.850000   3.17500  32308.900000   \n",
       "std     5.91608              1111.423614   0.988087   1.18405      3.552612   \n",
       "min     1.00000              1128.000000   2.000000   1.00000  32301.000000   \n",
       "25%     5.75000              1904.750000   3.000000   2.00000  32308.750000   \n",
       "50%    10.50000              2490.000000   4.000000   3.00000  32309.500000   \n",
       "75%    15.25000              3577.750000   4.250000   4.00000  32312.000000   \n",
       "max    20.00000              4892.000000   6.000000   6.00000  32312.000000   \n",
       "\n",
       "            \"Year\"   \"List Price ($)\"  \n",
       "count    20.000000          20.000000  \n",
       "mean   1992.650000      383440.000000  \n",
       "std      18.530984      205756.671312  \n",
       "min    1954.000000       89000.000000  \n",
       "25%    1987.750000      233750.000000  \n",
       "50%    1995.000000      340000.000000  \n",
       "75%    2006.000000      554675.000000  \n",
       "max    2016.000000      799900.000000  "
      ]
     },
     "execution_count": 25,
     "metadata": {},
     "output_type": "execute_result"
    }
   ],
   "source": [
    "#Question 2\n",
    "\n",
    "#a\n",
    "data=pd.read_csv( \"zillow.csv\")\n",
    "\n",
    "data.describe()"
   ]
  },
  {
   "cell_type": "code",
   "execution_count": 21,
   "metadata": {},
   "outputs": [
    {
     "name": "stdout",
     "output_type": "stream",
     "text": [
      "Correlation between List price vs Living space: 0.82089889927515\n",
      "Correlation between List price vs Beds: 0.5884637029711128\n"
     ]
    }
   ],
   "source": [
    "#b\n",
    "x=data[' \"List Price ($)\"']\n",
    "\n",
    "y=data[' \"Living Space (sq ft)\"']\n",
    "\n",
    "print(\"The correlation between List price vs Living space: \" +str(x.corr(y)))\n",
    "\n",
    "\n",
    "x=data[' \"List Price ($)\"']\n",
    "\n",
    "y=data[' \"Beds\"']\n",
    "\n",
    "print(\"The correlation between List price vs Beds: \"+str(x.corr(y)))"
   ]
  },
  {
   "cell_type": "code",
   "execution_count": 30,
   "metadata": {},
   "outputs": [
    {
     "data": {
      "image/png": "[encoded data removed]",
      "text/plain": [
       "<Figure size 432x288 with 1 Axes>"
      ]
     },
     "metadata": {
      "needs_background": "light"
     },
     "output_type": "display_data"
    }
   ],
   "source": [
    "#c\n",
    "import numpy as np\n",
    "\n",
    "import seaborn as sns\n",
    "\n",
    "import matplotlib.pyplot as plt\n",
    "\n",
    "sns.regplot(x=' \"Living Space (sq ft)\"', y=' \"List Price ($)\"', data=data);\n",
    "\n",
    "\n"
   ]
  },
  {
   "cell_type": "code",
   "execution_count": 31,
   "metadata": {},
   "outputs": [
    {
     "name": "stdout",
     "output_type": "stream",
     "text": [
      "coefficient of determination: 0.6738750028311529\n"
     ]
    }
   ],
   "source": [
    "#d \n",
    "import numpy as np\n",
    "\n",
    "from sklearn.linear_model import LinearRegression\n",
    "\n",
    "#x=\n",
    "\n",
    "x = np.array(data[' \"Living Space (sq ft)\"']).reshape((-1, 1))\n",
    "\n",
    "y=data[' \"List Price ($)\"']\n",
    "\n",
    "model = LinearRegression()\n",
    "\n",
    "model.fit(x, y)\n",
    "\n",
    "# evaluate model performance using R2 value - Q h\n",
    "\n",
    "r_sq = model.score(x, y)\n",
    "\n",
    "print('coefficient of determination:', r_sq)\n",
    "\n",
    "\n"
   ]
  },
  {
   "cell_type": "code",
   "execution_count": 32,
   "metadata": {},
   "outputs": [
    {
     "name": "stdout",
     "output_type": "stream",
     "text": [
      "Predicted values for 1800:  [254924.75987295]\n",
      "Predicted values for 2500:  [361305.25782001]\n",
      "R2:  0.9296845448114558\n",
      "Predicted values for 1800:  [262697.50227985]\n",
      "Predicted values for 2500:  [364857.64205535]\n"
     ]
    }
   ],
   "source": [
    "#e\n",
    "print('Predicted values for 1800: ', model.predict([[1800]]))\n",
    "\n",
    "print('Predicted values for 2500: ', model.predict([[2500]]))\n",
    "\n",
    "# statmodel\n",
    "\n",
    "import statsmodels.api as sm\n",
    "\n",
    "\n",
    "results = sm.OLS(y,x).fit()\n",
    "\n",
    "\n",
    "results.summary()\n",
    "\n",
    "print('R2: ', results.rsquared)\n",
    "\n",
    "print('Predicted values for 1800: ', results.predict([1800]))\n",
    "\n",
    "print('Predicted values for 2500: ', results.predict([2500]))\n",
    "\n",
    "\n"
   ]
  },
  {
   "cell_type": "code",
   "execution_count": 26,
   "metadata": {},
   "outputs": [
    {
     "name": "stdout",
     "output_type": "stream",
     "text": [
      "coefficient of determination: 0.6864409987008632\n"
     ]
    }
   ],
   "source": [
    "#f\n",
    "x = data[[' \"Living Space (sq ft)\"',' \"Beds\"']]\n",
    "\n",
    "y=data[' \"List Price ($)\"']\n",
    "\n",
    "model = LinearRegression()\n",
    "\n",
    "model.fit(x, y)\n",
    "\n",
    "\n",
    "r_sq = model.score(x, y)\n",
    "\n",
    "print('coefficient of determination:', r_sq)"
   ]
  },
  {
   "cell_type": "code",
   "execution_count": 27,
   "metadata": {},
   "outputs": [
    {
     "name": "stdout",
     "output_type": "stream",
     "text": [
      "Predicted values for 2200, 3:  [336420.35568863]\n"
     ]
    },
    {
     "data": {
      "text/html": [
       "<table class=\"simpletable\">\n",
       "<caption>OLS Regression Results</caption>\n",
       "<tr>\n",
       "  <th>Dep. Variable:</th>    <td> \"List Price ($)\"</td> <th>  R-squared (uncentered):</th>      <td>   0.932</td>\n",
       "</tr>\n",
       "<tr>\n",
       "  <th>Model:</th>                   <td>OLS</td>        <th>  Adj. R-squared (uncentered):</th> <td>   0.924</td>\n",
       "</tr>\n",
       "<tr>\n",
       "  <th>Method:</th>             <td>Least Squares</td>   <th>  F-statistic:       </th>          <td>   122.7</td>\n",
       "</tr>\n",
       "<tr>\n",
       "  <th>Date:</th>             <td>Sun, 04 Apr 2021</td>  <th>  Prob (F-statistic):</th>          <td>3.24e-11</td>\n",
       "</tr>\n",
       "<tr>\n",
       "  <th>Time:</th>                 <td>22:01:45</td>      <th>  Log-Likelihood:    </th>          <td> -261.10</td>\n",
       "</tr>\n",
       "<tr>\n",
       "  <th>No. Observations:</th>      <td>    20</td>       <th>  AIC:               </th>          <td>   526.2</td>\n",
       "</tr>\n",
       "<tr>\n",
       "  <th>Df Residuals:</th>          <td>    18</td>       <th>  BIC:               </th>          <td>   528.2</td>\n",
       "</tr>\n",
       "<tr>\n",
       "  <th>Df Model:</th>              <td>     2</td>       <th>                     </th>              <td> </td>   \n",
       "</tr>\n",
       "<tr>\n",
       "  <th>Covariance Type:</th>      <td>nonrobust</td>     <th>                     </th>              <td> </td>   \n",
       "</tr>\n",
       "</table>\n",
       "<table class=\"simpletable\">\n",
       "<tr>\n",
       "             <td></td>                <th>coef</th>     <th>std err</th>      <th>t</th>      <th>P>|t|</th>  <th>[0.025</th>    <th>0.975]</th>  \n",
       "</tr>\n",
       "<tr>\n",
       "  <th> \"Living Space (sq ft)\"</th> <td>  173.5552</td> <td>   39.159</td> <td>    4.432</td> <td> 0.000</td> <td>   91.286</td> <td>  255.825</td>\n",
       "</tr>\n",
       "<tr>\n",
       "  <th> \"Beds\"</th>                 <td>-2.048e+04</td> <td> 2.82e+04</td> <td>   -0.726</td> <td> 0.477</td> <td>-7.97e+04</td> <td> 3.88e+04</td>\n",
       "</tr>\n",
       "</table>\n",
       "<table class=\"simpletable\">\n",
       "<tr>\n",
       "  <th>Omnibus:</th>       <td> 7.441</td> <th>  Durbin-Watson:     </th> <td>   1.904</td>\n",
       "</tr>\n",
       "<tr>\n",
       "  <th>Prob(Omnibus):</th> <td> 0.024</td> <th>  Jarque-Bera (JB):  </th> <td>   4.820</td>\n",
       "</tr>\n",
       "<tr>\n",
       "  <th>Skew:</th>          <td> 1.049</td> <th>  Prob(JB):          </th> <td>  0.0898</td>\n",
       "</tr>\n",
       "<tr>\n",
       "  <th>Kurtosis:</th>      <td> 4.175</td> <th>  Cond. No.          </th> <td>3.03e+03</td>\n",
       "</tr>\n",
       "</table><br/><br/>Notes:<br/>[1] R² is computed without centering (uncentered) since the model does not contain a constant.<br/>[2] Standard Errors assume that the covariance matrix of the errors is correctly specified.<br/>[3] The condition number is large, 3.03e+03. This might indicate that there are<br/>strong multicollinearity or other numerical problems."
      ],
      "text/plain": [
       "<class 'statsmodels.iolib.summary.Summary'>\n",
       "\"\"\"\n",
       "                                 OLS Regression Results                                \n",
       "=======================================================================================\n",
       "Dep. Variable:       \"List Price ($)\"   R-squared (uncentered):                   0.932\n",
       "Model:                            OLS   Adj. R-squared (uncentered):              0.924\n",
       "Method:                 Least Squares   F-statistic:                              122.7\n",
       "Date:                Sun, 04 Apr 2021   Prob (F-statistic):                    3.24e-11\n",
       "Time:                        22:01:45   Log-Likelihood:                         -261.10\n",
       "No. Observations:                  20   AIC:                                      526.2\n",
       "Df Residuals:                      18   BIC:                                      528.2\n",
       "Df Model:                           2                                                  \n",
       "Covariance Type:            nonrobust                                                  \n",
       "===========================================================================================\n",
       "                              coef    std err          t      P>|t|      [0.025      0.975]\n",
       "-------------------------------------------------------------------------------------------\n",
       " \"Living Space (sq ft)\"   173.5552     39.159      4.432      0.000      91.286     255.825\n",
       " \"Beds\"                 -2.048e+04   2.82e+04     -0.726      0.477   -7.97e+04    3.88e+04\n",
       "==============================================================================\n",
       "Omnibus:                        7.441   Durbin-Watson:                   1.904\n",
       "Prob(Omnibus):                  0.024   Jarque-Bera (JB):                4.820\n",
       "Skew:                           1.049   Prob(JB):                       0.0898\n",
       "Kurtosis:                       4.175   Cond. No.                     3.03e+03\n",
       "==============================================================================\n",
       "\n",
       "Notes:\n",
       "[1] R² is computed without centering (uncentered) since the model does not contain a constant.\n",
       "[2] Standard Errors assume that the covariance matrix of the errors is correctly specified.\n",
       "[3] The condition number is large, 3.03e+03. This might indicate that there are\n",
       "strong multicollinearity or other numerical problems.\n",
       "\"\"\""
      ]
     },
     "execution_count": 27,
     "metadata": {},
     "output_type": "execute_result"
    }
   ],
   "source": [
    "#g\n",
    "print('Predicted values for 2200, 3: ', model.predict([[2200,3]]))\n",
    "\n",
    "#Variable to model\n",
    "\n",
    "results = sm.OLS(y,x).fit()\n",
    "\n",
    "#Model summary\n",
    "\n",
    "results.summary()"
   ]
  },
  {
   "cell_type": "code",
   "execution_count": null,
   "metadata": {},
   "outputs": [],
   "source": []
  }
 ],
 "metadata": {
  "kernelspec": {
   "display_name": "Python 3",
   "language": "python",
   "name": "python3"
  },
  "language_info": {
   "codemirror_mode": {
    "name": "ipython",
    "version": 3
   },
   "file_extension": ".py",
   "mimetype": "text/x-python",
   "name": "python",
   "nbconvert_exporter": "python",
   "pygments_lexer": "ipython3",
   "version": "3.8.5"
  }
 },
 "nbformat": 4,
 "nbformat_minor": 4
}
